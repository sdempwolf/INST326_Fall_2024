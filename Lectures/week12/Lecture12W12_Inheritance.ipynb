{
 "cells": [
  {
   "cell_type": "markdown",
   "id": "592d3b10-d890-40ca-b79b-a6ab19812faa",
   "metadata": {},
   "source": [
    "## Lecture 12W12 Inheritance"
   ]
  },
  {
   "cell_type": "markdown",
   "id": "7aa0a036-6fc4-46c2-9acf-a29d1df8c0b0",
   "metadata": {},
   "source": [
    "#### Introduction to Inheritance"
   ]
  },
  {
   "cell_type": "markdown",
   "id": "249a1061-4d5b-49e3-ac81-8899e6eb691a",
   "metadata": {},
   "source": [
    "\n",
    "Inheritance is a fundamental concept in object-oriented programming (OOP) that allows one class to derive or inherit attributes and methods from another class. This mechanism is designed to promote code reuse, improve maintainability, and establish a relationship between classes, enabling a more organized code structure. In Python, inheritance is achieved by defining a new class (the child or derived class) that extends an existing class (the parent or base class). The child class inherits all the attributes and methods of the parent class, but it can also define additional attributes and methods or even override existing ones. This makes inheritance a powerful tool for creating hierarchical class structures where more specific classes build upon the functionality of more general ones.\n",
    "\n",
    "The primary benefit of using inheritance is to avoid duplicating code when classes share similar behaviors. Instead of writing redundant code in each class, a common base class can define the shared functionality, while derived classes can focus on their unique features. For example, in a program involving various types of employees, a <font color=green>BaseEmployee</font> class might contain attributes like <font color=green>name</font> and <font color=green>salary</font>, along with common methods such as <font color=green>calculate_pay()</font>. Derived classes like <font color=green>Manager</font>, <font color=green>Developer</font>, or <font color=green>Intern</font> could inherit from <font color=green>BaseEmployee</font> while adding their own specialized methods or attributes. This structure not only simplifies the code but also makes it more flexible and easier to maintain, as changes in the base class automatically propagate to its derived classes."
   ]
  },
  {
   "cell_type": "markdown",
   "id": "a2fbc654-53bf-47df-aa9d-4192792989f8",
   "metadata": {},
   "source": [
    "#### Basic Syntax of Inheritance in Python"
   ]
  },
  {
   "cell_type": "code",
   "execution_count": null,
   "id": "25d7415b-7c45-450a-afe4-3e09303aa913",
   "metadata": {},
   "outputs": [],
   "source": [
    "class ParentClass:\n",
    "    # parent class code\n",
    "\n",
    "class ChildClass(ParentClass):\n",
    "    # child class code"
   ]
  },
  {
   "cell_type": "markdown",
   "id": "a2f3184c-c730-4067-9114-17bd6bc60926",
   "metadata": {},
   "source": [
    "for example:"
   ]
  },
  {
   "cell_type": "code",
   "execution_count": null,
   "id": "e851a64b-c44e-487b-b07f-7718b95a70a0",
   "metadata": {},
   "outputs": [],
   "source": [
    "class Vehicle:\n",
    "    # parent class code\n",
    "    pass\n",
    "\n",
    "class Car(Vehicle):\n",
    "    # child class code\n",
    "    pass"
   ]
  },
  {
   "cell_type": "markdown",
   "id": "c75126b4-2459-49c5-be5d-f7537c6bfdd9",
   "metadata": {},
   "source": [
    "note that <font color=green>pass</font> is added to satisfy python requirements for a class definition (at least one line of executable code after the : (comments don't count).  <font color=green>pass</font> is a null command - it does nothing.  \n",
    "\n",
    "We have seen the code above before - most recently with abstract classes."
   ]
  },
  {
   "cell_type": "markdown",
   "id": "a99c8cad-0069-4e88-8a5b-0b129272573f",
   "metadata": {},
   "source": [
    "#### Extending and Overriding Methods"
   ]
  },
  {
   "cell_type": "markdown",
   "id": "075847b1-4be8-42cd-b8de-f490405395d9",
   "metadata": {},
   "source": [
    "**Method Overriding**"
   ]
  },
  {
   "cell_type": "markdown",
   "id": "d5bc4d03-b49b-4cb7-bde9-72576786d908",
   "metadata": {},
   "source": [
    "Method overriding is a concept in object-oriented programming that occurs when a subclass (or child class) provides a specific implementation for a method that is already defined in its superclass (or parent class). This allows the subclass to modify or extend the behavior of the method inherited from the parent class, adapting it to the needs of the subclass.\n",
    "\n",
    "In Python, method overriding is achieved by defining a method in the child class with the same name and signature (parameters) as the method in the parent class. When an instance of the child class calls this method, Python will execute the version defined in the child class rather than the one in the parent class. This enables polymorphism, where a single interface can be used with different underlying forms or behaviors depending on the context.\n",
    "\n",
    "for example:"
   ]
  },
  {
   "cell_type": "code",
   "execution_count": 1,
   "id": "dc4d4a67-91b6-4fff-a340-fb9e3d6e26e7",
   "metadata": {},
   "outputs": [
    {
     "name": "stdout",
     "output_type": "stream",
     "text": [
      "Some generic animal sound\n",
      "Bark\n"
     ]
    }
   ],
   "source": [
    "class Animal:\n",
    "    def sound(self):\n",
    "        return \"Some generic animal sound\"\n",
    "\n",
    "class Dog(Animal):\n",
    "    def sound(self):\n",
    "        return \"Bark\"\n",
    "\n",
    "# execution code\n",
    "mydog = Animal()\n",
    "print(mydog.sound())\n",
    "\n",
    "myotherdog = Dog()\n",
    "print(myotherdog.sound())"
   ]
  },
  {
   "cell_type": "markdown",
   "id": "52f171c1-9366-4f47-be9a-4abb543ac926",
   "metadata": {},
   "source": [
    "**Using <font color=green>super()</font>:**"
   ]
  },
  {
   "cell_type": "markdown",
   "id": "930ec6f6-96ea-4e73-9b62-3cdc86a26925",
   "metadata": {},
   "source": [
    "The <font color=green>super()</font> function in Python is used in inheritance to call methods or access attributes from a parent class, allowing child classes to extend or modify the behavior of inherited methods without completely replacing them. The primary benefit of <font color=green>super(</font>) is that it enables the child class to reuse code from its parent class, minimizing duplication and making it easier to maintain and extend code.\n",
    "\n",
    "Using <font color=green>super()</font> is particularly useful in situations where a child class overrides a method but still wants to incorporate the functionality of the parent class’s method. This function simplifies calling the parent class’s implementation and is especially helpful in complex inheritance hierarchies or when using multiple inheritance."
   ]
  },
  {
   "cell_type": "markdown",
   "id": "1abc6957-afe9-4d33-8a15-f17f1b0abe79",
   "metadata": {},
   "source": [
    "**Example: Using <font color=green>super()</font> in Method Overriding**  \n",
    "\n",
    "Consider an example with a base class <font color=green>Vehicle</font> and a subclass <font color=green>Car</font>. The subclass <font color=green>Car</font> overrides the <font color=green>describe()</font> method but also calls the parent class’s <font color=green>describe()</font> method using <font color=green>super()</font> to retain some of its functionality."
   ]
  },
  {
   "cell_type": "code",
   "execution_count": 3,
   "id": "c81214a5-9d58-4213-91a9-f14e85b2a282",
   "metadata": {},
   "outputs": [
    {
     "name": "stdout",
     "output_type": "stream",
     "text": [
      "This is a Toyota Camry. It has 4 doors.\n"
     ]
    }
   ],
   "source": [
    "class Vehicle:\n",
    "    def __init__(self, brand, model):\n",
    "        self.brand = brand\n",
    "        self.model = model\n",
    "\n",
    "    def describe(self):\n",
    "        return f\"This is a {self.brand} {self.model}.\"\n",
    "\n",
    "class Car(Vehicle):\n",
    "    def __init__(self, brand, model, doors):\n",
    "        # Call the parent class's initializer\n",
    "        super().__init__(brand, model)\n",
    "        self.doors = doors\n",
    "\n",
    "    def describe(self):\n",
    "        # Call the parent class's describe method\n",
    "        base_description = super().describe()\n",
    "        return f\"{base_description} It has {self.doors} doors.\"\n",
    "\n",
    "\n",
    "# execution code\n",
    "my_car = Car(\"Toyota\", \"Camry\", 4)\n",
    "print(my_car.describe())"
   ]
  },
  {
   "cell_type": "markdown",
   "id": "4559a0ff-58eb-439a-9e74-350f9710a000",
   "metadata": {},
   "source": [
    "In this example:\n",
    "> The <font color=green>Car</font> class’s <font color=green>__init__</font> method uses <font color=green>super().__init__(brand, model)</font> to initialize the brand and model attributes from the <font color=green>Vehicle</font> class.\n",
    ">\n",
    "> The <font color=green>Car</font> class’s <font color=green>describe()</font> method uses <font color=green>super().describe()</font> to call the <font color=green>Vehicle</font> class’s <font color=green>describe()</font> method, getting the basic description, and then extends it with additional information specific to <font color=green>Car</font>."
   ]
  },
  {
   "cell_type": "markdown",
   "id": "740792b5-8f76-449b-a74e-57e60ab9a1fa",
   "metadata": {},
   "source": [
    "#### Class Attribute Inheritance"
   ]
  },
  {
   "cell_type": "code",
   "execution_count": 5,
   "id": "0cf4630f-3e46-412c-a01d-8d4a01df2b36",
   "metadata": {},
   "outputs": [
    {
     "name": "stdout",
     "output_type": "stream",
     "text": [
      "Employees: 100\n"
     ]
    }
   ],
   "source": [
    "class Organization:\n",
    "    employees = 100\n",
    "\n",
    "class Department(Organization):\n",
    "    def show_employees(self):\n",
    "        print(f\"Employees: {self.employees}\")\n",
    "\n",
    "# Usage\n",
    "dept = Department()\n",
    "dept.show_employees()"
   ]
  },
  {
   "cell_type": "markdown",
   "id": "c5fb62dc-edf0-46ef-80a4-0afb0c97e628",
   "metadata": {},
   "source": [
    "#### Inheriting and Extending Initializers"
   ]
  },
  {
   "cell_type": "code",
   "execution_count": 7,
   "id": "dd097c32-e5bc-40c3-b440-4f8d950111f5",
   "metadata": {},
   "outputs": [
    {
     "name": "stdout",
     "output_type": "stream",
     "text": [
      "Name: John, ID: 101\n"
     ]
    }
   ],
   "source": [
    "class Person:\n",
    "    def __init__(self, name):\n",
    "        self.name = name\n",
    "\n",
    "class Employee(Person):\n",
    "    def __init__(self, name, employee_id):\n",
    "        super().__init__(name)\n",
    "        self.employee_id = employee_id\n",
    "\n",
    "    def display(self):\n",
    "        print(f\"Name: {self.name}, ID: {self.employee_id}\")\n",
    "\n",
    "# Usage\n",
    "emp = Employee(\"John\", 101)\n",
    "emp.display()"
   ]
  },
  {
   "cell_type": "markdown",
   "id": "e956f607-9d2b-4f69-8960-d3a373fba7d5",
   "metadata": {},
   "source": [
    "#### Types of Inheritance in Python"
   ]
  },
  {
   "cell_type": "markdown",
   "id": "218e1532-e517-4fdf-80be-200ea1cb5b8d",
   "metadata": {},
   "source": [
    "Single Inheritance"
   ]
  },
  {
   "cell_type": "code",
   "execution_count": 9,
   "id": "1922896b-1728-4481-8520-47982a31cc2e",
   "metadata": {},
   "outputs": [
    {
     "name": "stdout",
     "output_type": "stream",
     "text": [
      "Buddy is eating.\n",
      "Buddy is barking.\n"
     ]
    }
   ],
   "source": [
    "# Parent class (Base class)\n",
    "class Animal:\n",
    "    def __init__(self, name):\n",
    "        self.name = name\n",
    "\n",
    "    def eat(self):\n",
    "        print(f\"{self.name} is eating.\")\n",
    "\n",
    "# Child class (Derived class) inheriting from Animal\n",
    "class Dog(Animal):\n",
    "    def bark(self):\n",
    "        print(f\"{self.name} is barking.\")\n",
    "\n",
    "# Usage\n",
    "dog = Dog(\"Buddy\")\n",
    "dog.eat()   # Inherited method from Animal class\n",
    "dog.bark()  # Method defined in Dog class"
   ]
  },
  {
   "cell_type": "markdown",
   "id": "6d7bd329-c5f8-48a6-876b-bb08d7bace79",
   "metadata": {},
   "source": [
    "**Multiple Inheritance**\n",
    "> Inheritance from multiple classes"
   ]
  },
  {
   "cell_type": "code",
   "execution_count": 11,
   "id": "b6ac5e77-9480-4357-a8af-9a1974cee7f2",
   "metadata": {},
   "outputs": [
    {
     "name": "stdout",
     "output_type": "stream",
     "text": [
      "Flying in the air.\n",
      "Swimming in water.\n",
      "Quack!\n"
     ]
    }
   ],
   "source": [
    "class Flyer:\n",
    "    def fly(self):\n",
    "        print(\"Flying in the air.\")\n",
    "\n",
    "class Swimmer:\n",
    "    def swim(self):\n",
    "        print(\"Swimming in water.\")\n",
    "\n",
    "class Duck(Flyer, Swimmer):\n",
    "    def quack(self):\n",
    "        print(\"Quack!\")\n",
    "\n",
    "# Usage\n",
    "duck = Duck()\n",
    "duck.fly()\n",
    "duck.swim()\n",
    "duck.quack()"
   ]
  },
  {
   "cell_type": "markdown",
   "id": "b6d8931e-c406-48e1-8449-7b844cc4d271",
   "metadata": {},
   "source": [
    "**Multilevel Inheritance**\n",
    "> Inheritance from a class that itself inherits from another class"
   ]
  },
  {
   "cell_type": "code",
   "execution_count": 13,
   "id": "4bbe8929-7782-4999-9a93-edbc8839b63c",
   "metadata": {},
   "outputs": [
    {
     "name": "stdout",
     "output_type": "stream",
     "text": [
      "The appliance is now on.\n",
      "Washing clothes.\n",
      "Smart washing initiated.\n"
     ]
    }
   ],
   "source": [
    "class Appliance:\n",
    "    def turn_on(self):\n",
    "        print(\"The appliance is now on.\")\n",
    "\n",
    "class WashingMachine(Appliance):\n",
    "    def wash(self):\n",
    "        print(\"Washing clothes.\")\n",
    "\n",
    "class SmartWashingMachine(WashingMachine):\n",
    "    def smart_wash(self):\n",
    "        print(\"Smart washing initiated.\")\n",
    "\n",
    "# Usage\n",
    "smart_washer = SmartWashingMachine()\n",
    "smart_washer.turn_on()\n",
    "smart_washer.wash()\n",
    "smart_washer.smart_wash()"
   ]
  },
  {
   "cell_type": "markdown",
   "id": "f58d4d15-6db6-49dd-a604-762f1f6ea097",
   "metadata": {},
   "source": [
    "#### Inheriting Static Methods"
   ]
  },
  {
   "cell_type": "markdown",
   "id": "c5e8b13b-8ec2-4869-8f6c-a5e29c16a091",
   "metadata": {},
   "source": [
    "A static method in Python is a method that belongs to a class but does not access or modify the class state or instance state (i.e., it doesn't access any class variables or instance variables). It's essentially a regular function that you define within a class for organizational purposes but does not require an instance of the class to be called.\n",
    "\n",
    "**Key Characteristics of Static Methods:**\n",
    "> No Access to self or cls:\n",
    "\n",
    "> Static methods do not receive the implicit first argument self (for instance methods) or cls (for class methods).\n",
    "> They cannot modify the state of the class or its instances.\n",
    "Utility Functions:\n",
    "\n",
    "> Static methods are commonly used for utility functions that perform a specific task related to the class but don’t need access to the class or instance data.\n",
    "\n",
    "**Defined Using the @staticmethod Decorator:**\n",
    "\n",
    "> To define a static method, you use the <font color=green>@staticmethod</font> decorator before the method definition.\n",
    ">\n",
    "**When to Use Static Methods:**\n",
    ">- When you need a function that logically belongs to a class but doesn't require access to instance attributes (self) or class attributes (cls).\n",
    ">- When you want to group related utility functions together under a class, even if they don’t interact with the class or its instances."
   ]
  },
  {
   "cell_type": "code",
   "execution_count": 15,
   "id": "5f519f7e-813e-450f-82d8-061e20ea8169",
   "metadata": {},
   "outputs": [
    {
     "name": "stdout",
     "output_type": "stream",
     "text": [
      "8\n",
      "15\n"
     ]
    }
   ],
   "source": [
    "class MathOperations:\n",
    "    @staticmethod\n",
    "    def add(x, y):\n",
    "        return x + y\n",
    "\n",
    "class AdvancedMath(MathOperations):\n",
    "    @staticmethod\n",
    "    def multiply(x, y):\n",
    "        return x * y\n",
    "\n",
    "# Usage\n",
    "print(AdvancedMath.add(3, 5))\n",
    "print(AdvancedMath.multiply(3, 5))"
   ]
  },
  {
   "cell_type": "markdown",
   "id": "b986269f-f505-45a4-832e-109811b5f022",
   "metadata": {},
   "source": [
    "#### Inheriting Properties"
   ]
  },
  {
   "cell_type": "code",
   "execution_count": 17,
   "id": "30831214-6184-43ab-b274-e166a290dc2e",
   "metadata": {},
   "outputs": [
    {
     "name": "stdout",
     "output_type": "stream",
     "text": [
      "Employee age: 30\n"
     ]
    }
   ],
   "source": [
    "class Person:\n",
    "    def __init__(self, age):\n",
    "        self._age = age\n",
    "\n",
    "    @property\n",
    "    def age(self):\n",
    "        return self._age\n",
    "\n",
    "    @age.setter\n",
    "    def age(self, value):\n",
    "        if value < 0:\n",
    "            raise ValueError(\"Age cannot be negative\")\n",
    "        self._age = value\n",
    "\n",
    "class Employee(Person):\n",
    "    def display(self):\n",
    "        print(f\"Employee age: {self.age}\")\n",
    "\n",
    "# Usage\n",
    "emp = Employee(30)\n",
    "emp.display()"
   ]
  },
  {
   "cell_type": "markdown",
   "id": "5a4bd84e-3a54-405e-adee-07586a045cf5",
   "metadata": {},
   "source": []
  }
 ],
 "metadata": {
  "kernelspec": {
   "display_name": "Python 3 (ipykernel)",
   "language": "python",
   "name": "python3"
  },
  "language_info": {
   "codemirror_mode": {
    "name": "ipython",
    "version": 3
   },
   "file_extension": ".py",
   "mimetype": "text/x-python",
   "name": "python",
   "nbconvert_exporter": "python",
   "pygments_lexer": "ipython3",
   "version": "3.12.4"
  }
 },
 "nbformat": 4,
 "nbformat_minor": 5
}

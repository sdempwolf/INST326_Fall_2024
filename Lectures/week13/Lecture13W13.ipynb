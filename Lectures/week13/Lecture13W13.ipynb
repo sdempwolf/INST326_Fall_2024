{
 "cells": [
  {
   "cell_type": "markdown",
   "id": "66f066c5-5f4a-4753-84f7-dbf36d7373e3",
   "metadata": {},
   "source": [
    "### Polymorphism in Object-Oriented Programming (OOP) with Python"
   ]
  },
  {
   "cell_type": "markdown",
   "id": "339a3594-d769-4143-81a1-bce3356f20dc",
   "metadata": {},
   "source": [
    "#### Definition of Polymorphism\n",
    ">  Polymorphism: Derived from Greek, meaning \"many shapes.\"\n",
    "> \n",
    ">  In the context of OOP, polymorphism allows methods to perform different tasks based on the object calling them, even when the methods share the same name.\n",
    ">>- Facilitates writing generic and reusable code.\n",
    ">>- Simplifies code maintenance by allowing different objects to be used interchangeably.\n",
    ">>- Promotes code extensibility, making it easier to add new functionalities without modifying existing code."
   ]
  },
  {
   "cell_type": "markdown",
   "id": "564bc8b6-16f4-4eb4-b5a7-9bd45e76eeb0",
   "metadata": {},
   "source": [
    "#### Duck Typing\n",
    "Python supports polymorphism inherently due to its dynamic typing and duck typing philosophy.\n",
    "> Duck typing is a concept in Python (and other dynamically typed languages) that allows the behavior of an object to determine its suitability for a particular operation, rather than its explicit type. This concept is a core part of Python's design philosophy, where the focus is on what an object can do rather than what an object is.\n",
    ">  The term duck typing comes from the saying:\n",
    "\n",
    ">> \"If it looks like a duck, swims like a duck, and quacks like a duck, then it probably is a duck.\"\n",
    "\n",
    "> In other words, if an object behaves like a certain type (i.e., it has the expected methods and attributes), then it can be treated as that type, regardless of what its actual class is.\n",
    ">  \n",
    ">  **Key Characteristics of Duck Typing:**\n",
    ">>- Focuses on behavior, not inheritance: If an object implements the methods and properties required, it is considered to be of the right type.\n",
    ">>- No need for explicit interfaces: Unlike statically typed languages like Java or C++, Python does not require a class to formally implement an interface.\n",
    ">>- Enables flexible and reusable code by allowing objects of different types to be used interchangeably.\n",
    ">  **How Does Duck Typing Work?**\n",
    "In Python, instead of checking if an object is of a specific type (like checking if an object is an instance of a specific class), you simply use the object and assume it has the methods or attributes you need. If it doesn't, Python will raise an error at runtime.\n",
    ">\n",
    "> **Example: Duck Typing in Action**"
   ]
  },
  {
   "cell_type": "code",
   "execution_count": null,
   "id": "df9765c7-97bd-4974-8565-d6c62c51a0ba",
   "metadata": {},
   "outputs": [],
   "source": [
    "def print_length(obj):\n",
    "    print(len(obj))\n",
    "\n",
    "# Works with different types\n",
    "print_length(\"Hello\")        # Output: 5\n",
    "print_length([1, 2, 3, 4])   # Output: 4\n",
    "print_length({'a': 1, 'b': 2}) # Output: 2\n"
   ]
  },
  {
   "cell_type": "markdown",
   "id": "fe54a0ef-3289-452f-8a5a-82f1e2f8a64c",
   "metadata": {},
   "source": [
    "**Explanation:**\n",
    "\n",
    ">- The print_length() function accepts any object that has a len() method.\n",
    ">- It does not care whether the object is a str, list, or dict; as long as it has a len() method, it will work.\n",
    ">- This is duck typing in action: if an object \"quacks\" like it has a length, it can be passed to print_length()."
   ]
  },
  {
   "cell_type": "markdown",
   "id": "62326b8f-177d-4f33-8d76-4105eaf01a90",
   "metadata": {},
   "source": [
    "**Benefits of Duck Typing**\n",
    "  \n",
    ">- Flexibility: Functions and methods can accept a wider range of input types, making code more reusable.\n",
    ">- Simplicity: Reduces the need for complex type checks and allows for cleaner, more Pythonic code.\n",
    ">- Decoupling: Your code becomes less dependent on specific class hierarchies or interfaces.\n",
    "  \n",
    "**When to Use Duck Typing**\n",
    "  \n",
    ">- When you want to write code that is flexible and reusable.\n",
    ">- When you are building functions that operate on objects that share the same behavior rather than type.\n",
    ">- When performance is less of a concern since duck typing relies on runtime checks.\n",
    "  \n",
    "**Drawbacks of Duck Typing**\n",
    "  \n",
    ">- Lack of type safety: Since type checks are done at runtime, you might encounter errors later in the execution of your program.\n",
    ">- Harder to debug: If an object doesn’t have the required methods, you won’t know until you actually try to use it, which can lead to runtime exceptions.\n",
    ">- Documentation challenges: Duck typing can make it harder for others to understand which types are expected unless properly documented."
   ]
  },
  {
   "cell_type": "markdown",
   "id": "ad5f4d4d-7c9f-4d16-9b56-9e96d809afe5",
   "metadata": {},
   "source": [
    "***\n",
    "#### Types of Polymorphism\n",
    ">  Compile-Time Polymorphism (Overloading)\n",
    ">>- Python does not support method/function overloading directly as in statically-typed languages like Java or C++.\n",
    ">>- However, Python achieves similar functionality using default arguments and *args/**kwargs.\n",
    ">\n",
    ">  Run-Time Polymorphism (Overriding)\n",
    ">>- Achieved through method overriding in inheritance.\n",
    ">>- Allows a subclass to provide a specific implementation of a method already defined in its superclass."
   ]
  },
  {
   "cell_type": "markdown",
   "id": "6c164521-8a75-4b53-aa92-ce7b24959873",
   "metadata": {},
   "source": [
    "***\n",
    "#### Understanding *args and **kwargs in Python\n",
    "In Python, *args and **kwargs are powerful tools that allow you to write flexible and reusable functions. They are used to handle a variable number of arguments passed to a function. Let's dive deeper into what they are and how to use them effectively.\n",
    "> *args allows a function to accept any number of positional arguments. The * symbol before args collects all extra positional arguments into a tuple.\n",
    ">\n",
    "> How *args Works\n",
    ">>- You can pass as many positional arguments as you want.\n",
    ">>- If no arguments are passed, args will be an empty tuple."
   ]
  },
  {
   "cell_type": "code",
   "execution_count": null,
   "id": "197ac6c8-d48a-4101-ab69-81e9edf249ac",
   "metadata": {},
   "outputs": [],
   "source": [
    "def greet(*args):\n",
    "    for name in args:\n",
    "        print(f\"Hello, {name}!\")\n",
    "\n",
    "greet(\"Alice\", \"Bob\", \"Charlie\")\n",
    "# Output:\n",
    "# Hello, Alice!\n",
    "# Hello, Bob!\n",
    "# Hello, Charlie!\n"
   ]
  },
  {
   "cell_type": "code",
   "execution_count": null,
   "id": "089e0f9d-091e-4a0f-a4b7-66d94db28378",
   "metadata": {},
   "outputs": [],
   "source": [
    "def sum_numbers(*args):\n",
    "    return sum(args)\n",
    "\n",
    "print(sum_numbers(1, 2, 3, 4))   # Output: 10\n",
    "print(sum_numbers())             # Output: 0\n"
   ]
  },
  {
   "cell_type": "markdown",
   "id": "05871ba4-b136-4132-9054-ee0f2c4969ef",
   "metadata": {},
   "source": [
    "**Use Cases**\n",
    ">- When you don’t know beforehand how many arguments a function will receive.\n",
    ">- Useful in situations where you want to allow a variable number of inputs."
   ]
  },
  {
   "cell_type": "markdown",
   "id": "708e2437-ea54-4c8b-a5ef-e67ab0d59173",
   "metadata": {},
   "source": [
    "**kwargs allows a function to accept any number of keyword arguments (i.e., arguments in the form of key-value pairs). The ** symbol collects these arguments into a dictionary.  \n",
    "  \n",
    "How **kwargs Works\n",
    ">- You can pass as many keyword arguments as you want.\n",
    ">- If no keyword arguments are passed, kwargs will be an empty dictionary."
   ]
  },
  {
   "cell_type": "code",
   "execution_count": null,
   "id": "8c854e94-f90f-4389-ad54-5790f125db5f",
   "metadata": {},
   "outputs": [],
   "source": [
    "def display_info(**kwargs):\n",
    "    for key, value in kwargs.items():\n",
    "        print(f\"{key}: {value}\")\n",
    "\n",
    "display_info(name=\"Alice\", age=25, city=\"New York\")\n",
    "# Output:\n",
    "# name: Alice\n",
    "# age: 25\n",
    "# city: New York\n"
   ]
  },
  {
   "cell_type": "code",
   "execution_count": null,
   "id": "76acfb04-fee8-417a-b64e-8ee2014b3954",
   "metadata": {},
   "outputs": [],
   "source": [
    "def describe(**kwargs):\n",
    "    return kwargs\n",
    "\n",
    "print(describe(language=\"Python\", level=\"Beginner\"))\n",
    "# Output: {'language': 'Python', 'level': 'Beginner'}\n"
   ]
  },
  {
   "cell_type": "markdown",
   "id": "d7aa6a84-1b13-4b5f-9a67-8962eb3e1e5f",
   "metadata": {},
   "source": [
    "**Use Cases**\n",
    ">- Useful when you want to pass a variable number of keyword arguments.\n",
    ">- Ideal for functions that need to accept optional settings or configurations."
   ]
  },
  {
   "cell_type": "markdown",
   "id": "f9ce71d4-5204-4344-93f7-ac0853376c75",
   "metadata": {},
   "source": [
    "#### Combining *args and **kwargs\n",
    ">  You can use both *args and **kwargs in the same function. The order must be:\n",
    ">  \n",
    ">  Regular positional arguments.\n",
    ">>- *args (positional variable-length arguments).\n",
    ">>- **kwargs (keyword variable-length arguments)."
   ]
  },
  {
   "cell_type": "code",
   "execution_count": null,
   "id": "e5ab81da-ecd6-4368-b3d6-ebaad9cb22de",
   "metadata": {},
   "outputs": [],
   "source": [
    "def order_summary(order_id, *items, **details):\n",
    "    print(f\"Order ID: {order_id}\")\n",
    "    print(\"Items:\", items)\n",
    "    for key, value in details.items():\n",
    "        print(f\"{key}: {value}\")\n",
    "\n",
    "order_summary(\n",
    "    101, \n",
    "    \"Pizza\", \"Burger\", \"Soda\",\n",
    "    customer=\"Alice\",\n",
    "    address=\"123 Elm Street\"\n",
    ")\n",
    "# Output:\n",
    "# Order ID: 101\n",
    "# Items: ('Pizza', 'Burger', 'Soda')\n",
    "# customer: Alice\n",
    "# address: 123 Elm Street\n"
   ]
  },
  {
   "cell_type": "markdown",
   "id": "d726f22b-d77d-4440-ae1f-b6ea92918f79",
   "metadata": {},
   "source": [
    "**Explanation:**\n",
    "\n",
    ">- order_id is a regular positional argument.\n",
    ">- *items collects extra positional arguments into a tuple.\n",
    ">- **details collects keyword arguments into a dictionary."
   ]
  },
  {
   "cell_type": "markdown",
   "id": "9be7a300-8c76-491a-8255-2a5643f3c1c4",
   "metadata": {},
   "source": [
    "#### Unpacking *args and **kwargs\n",
    "You can also unpack arguments from lists, tuples, and dictionaries using * and **.\n",
    "\n",
    "Unpacking with *args"
   ]
  },
  {
   "cell_type": "code",
   "execution_count": null,
   "id": "734e0741-4743-4e95-8990-48fdcc7134a8",
   "metadata": {},
   "outputs": [],
   "source": [
    "numbers = [1, 2, 3, 4]\n",
    "print(sum(*numbers))  # Equivalent to sum(1, 2, 3, 4)\n",
    "# Output: 10\n"
   ]
  },
  {
   "cell_type": "markdown",
   "id": "eb11230b-75df-4116-8586-73028c9587b7",
   "metadata": {},
   "source": [
    "Unpacking with **kwargs"
   ]
  },
  {
   "cell_type": "code",
   "execution_count": null,
   "id": "1e6b7d15-c3bd-4b78-8ca5-6dd7bc6609b9",
   "metadata": {},
   "outputs": [],
   "source": [
    "info = {'name': 'Bob', 'age': 30}\n",
    "display_info(**info)\n",
    "# Output:\n",
    "# name: Bob\n",
    "# age: 30\n"
   ]
  },
  {
   "cell_type": "markdown",
   "id": "faab21ae-7e2b-44dc-a251-7730b68abdf6",
   "metadata": {},
   "source": [
    "**Explanation:**\n",
    "\n",
    ">- * unpacks a list/tuple into positional arguments.\n",
    ">- ** unpacks a dictionary into keyword arguments.\n"
   ]
  },
  {
   "cell_type": "markdown",
   "id": "2f752e06-3030-4330-acf8-c13d68d62791",
   "metadata": {},
   "source": [
    "***"
   ]
  },
  {
   "cell_type": "markdown",
   "id": "8d5942bc-41dc-4bcc-9beb-21e93f5b81d0",
   "metadata": {},
   "source": [
    "#### Polymorphism with Functions and Objects\n",
    "Example: Polymorphism with Functions"
   ]
  },
  {
   "cell_type": "code",
   "execution_count": null,
   "id": "c17dc8db-2a93-4ae6-bc87-6d2ceba85e09",
   "metadata": {},
   "outputs": [],
   "source": [
    "class Dog:\n",
    "    def sound(self):\n",
    "        return \"Bark\"\n",
    "\n",
    "class Cat:\n",
    "    def sound(self):\n",
    "        return \"Meow\"\n",
    "\n",
    "def animal_sound(animal):\n",
    "    print(animal.sound())\n",
    "\n",
    "# Usage\n",
    "dog = Dog()\n",
    "cat = Cat()\n",
    "\n",
    "animal_sound(dog)  # Output: Bark\n",
    "animal_sound(cat)  # Output: Meow\n"
   ]
  },
  {
   "cell_type": "markdown",
   "id": "d81f6e2c-f26c-4706-9914-1f817c39cb8d",
   "metadata": {},
   "source": [
    "**Explanation:**\n",
    "\n",
    ">>- The animal_sound function accepts any object as an argument as long as it has a sound() method.\n",
    ">>- This shows Python’s dynamic typing and how polymorphism allows different objects to be treated uniformly."
   ]
  },
  {
   "cell_type": "markdown",
   "id": "84ab74d3-6220-4dc7-9f56-8a8211635957",
   "metadata": {},
   "source": [
    "Example: Polymorphism with Built-in Functions"
   ]
  },
  {
   "cell_type": "code",
   "execution_count": null,
   "id": "0e84b6db-16be-44ff-bc2f-9835c6f98ef9",
   "metadata": {},
   "outputs": [],
   "source": [
    "print(len(\"Hello\"))        # Output: 5 (string length)\n",
    "print(len([1, 2, 3, 4]))   # Output: 4 (list length)\n",
    "print(len({'a': 1, 'b': 2})) # Output: 2 (dictionary length)\n"
   ]
  },
  {
   "cell_type": "markdown",
   "id": "f3ae2433-66bc-43e1-a593-c8a311407a41",
   "metadata": {},
   "source": [
    "**Explanation:**\n",
    "\n",
    ">  The len() function is polymorphic; it behaves differently depending on the type of the object passed to it."
   ]
  },
  {
   "cell_type": "markdown",
   "id": "3ec82a6a-f3e7-46c6-9c39-9928e17f07e3",
   "metadata": {},
   "source": [
    "Example: Polymorphism with Method Overriding"
   ]
  },
  {
   "cell_type": "code",
   "execution_count": null,
   "id": "5f139839-63a7-4135-8264-6849bfbc6e92",
   "metadata": {},
   "outputs": [],
   "source": [
    "class Vehicle:\n",
    "    def start(self):\n",
    "        return \"Vehicle starting\"\n",
    "\n",
    "class Car(Vehicle):\n",
    "    def start(self):\n",
    "        return \"Car engine starting\"\n",
    "\n",
    "class Bike(Vehicle):\n",
    "    def start(self):\n",
    "        return \"Bike engine starting\"\n",
    "\n",
    "def vehicle_start(vehicle):\n",
    "    print(vehicle.start())\n",
    "\n",
    "# Usage\n",
    "car = Car()\n",
    "bike = Bike()\n",
    "\n",
    "vehicle_start(car)   # Output: Car engine starting\n",
    "vehicle_start(bike)  # Output: Bike engine starting\n"
   ]
  },
  {
   "cell_type": "markdown",
   "id": "794c1ba6-1cb9-4cd5-9aeb-47bf285ef72c",
   "metadata": {},
   "source": [
    "**Explanation:**\n",
    ">>- The Car and Bike classes override the start() method of the Vehicle class.\n",
    ">>- The vehicle_start() function calls the start() method on different types of vehicles, demonstrating polymorphism."
   ]
  },
  {
   "cell_type": "markdown",
   "id": "cbf2ea74-dffd-4318-8c13-884f9243ad35",
   "metadata": {},
   "source": [
    "#### Key Takeaways:\n",
    ">- Method overriding is an example of run-time polymorphism.\n",
    ">- Different subclasses can have their own implementation of the same method."
   ]
  },
  {
   "cell_type": "markdown",
   "id": "f9c8d65c-1792-4c8e-932e-547143e2f74f",
   "metadata": {},
   "source": [
    "#### Polymorphism with Abstract Classes and Interfaces\n",
    "> Abstract classes are used to define common behaviors for subclasses, while allowing each subclass to implement those behaviors differently.\n",
    ">\n",
    "> Achieved using the abc (Abstract Base Class) module in Python."
   ]
  },
  {
   "cell_type": "markdown",
   "id": "516261af-c932-4b24-80be-016829be390a",
   "metadata": {},
   "source": [
    "Example: Using Abstract Base Classes"
   ]
  },
  {
   "cell_type": "code",
   "execution_count": null,
   "id": "26cef31c-02ab-4cd6-b219-0922c5dd5a92",
   "metadata": {},
   "outputs": [],
   "source": [
    "from abc import ABC, abstractmethod\n",
    "\n",
    "class Animal(ABC):\n",
    "    @abstractmethod\n",
    "    def sound(self):\n",
    "        pass\n",
    "\n",
    "class Dog(Animal):\n",
    "    def sound(self):\n",
    "        return \"Bark\"\n",
    "\n",
    "class Cat(Animal):\n",
    "    def sound(self):\n",
    "        return \"Meow\"\n",
    "\n",
    "# Usage\n",
    "animals = [Dog(), Cat()]\n",
    "for animal in animals:\n",
    "    print(animal.sound())\n",
    "# Output:\n",
    "# Bark\n",
    "# Meow\n"
   ]
  },
  {
   "cell_type": "markdown",
   "id": "f716b5dd-9e53-4ba5-8ffe-b371cc0642dd",
   "metadata": {},
   "source": [
    "**Explanation:**\n",
    "\n",
    ">>- The Animal class is an abstract base class with an abstract method sound().\n",
    ">>- The Dog and Cat classes implement the sound() method, showcasing polymorphism."
   ]
  },
  {
   "cell_type": "markdown",
   "id": "5a069d05-0a77-43eb-9a03-0f4a963e4c44",
   "metadata": {},
   "source": [
    "**Benefits of Using Abstract Classes**\n",
    ">- Enforces a contract for subclasses to implement certain methods.\n",
    ">- Promotes code consistency and reduces errors."
   ]
  },
  {
   "cell_type": "markdown",
   "id": "6b98466d-aafc-4cab-bc6e-e5b741497743",
   "metadata": {},
   "source": [
    "#### Polymorphism in Real-World Applications\n",
    "Example: Polymorphism in File Handling"
   ]
  },
  {
   "cell_type": "code",
   "execution_count": null,
   "id": "c0a2fb46-3900-46d1-9640-a2d5f1b115ae",
   "metadata": {},
   "outputs": [],
   "source": [
    "class TextFile:\n",
    "    def read(self):\n",
    "        return \"Reading text file\"\n",
    "\n",
    "class PDFFile:\n",
    "    def read(self):\n",
    "        return \"Reading PDF file\"\n",
    "\n",
    "def open_file(file):\n",
    "    print(file.read())\n",
    "\n",
    "# Usage\n",
    "txt = TextFile()\n",
    "pdf = PDFFile()\n",
    "\n",
    "open_file(txt)   # Output: Reading text file\n",
    "open_file(pdf)   # Output: Reading PDF file\n"
   ]
  },
  {
   "cell_type": "markdown",
   "id": "efc579a1-4338-4953-ac10-f647aeb8a294",
   "metadata": {},
   "source": [
    "#### Polymorphism with Operator Overloading\n",
    ">  Operator overloading in Python is a way to extend the behavior of built-in operators (like +, -, *, etc.) so that they can work with user-defined objects (like custom classes). This powerful feature allows you to define how operators should behave when used with your own objects.\n",
    "> \n",
    ">  Operators are symbols like +, -, *, /, and so on, that are used to perform operations on variables or values.  \n",
    ">  Overloading means defining a new behavior for these operators so they can work with objects of a user-defined class.  \n",
    ">  In Python, operators like + or == can be overloaded by defining special methods (also known as dunder methods, short for “double underscore”) in your class.\n",
    "> \n",
    "> **Why Use Operator Overloading?**  \n",
    ">- Allows for more intuitive and readable code when working with custom objects.\n",
    ">- Makes it possible to perform operations on your objects in a natural, mathematical way, like adding two objects with + instead of calling a method like add().\n",
    "> **How Does Operator Overloading Work?**\n",
    ">  To overload an operator, you need to define a special method in your class. These methods have specific names, such as:\n",
    "\n",
    ">>- __add__() for +\n",
    ">>- __sub__() for -\n",
    ">>- __mul__() for *\n",
    ">>- __truediv__() for /\n",
    ">>- __eq__() for ==\n",
    ">>- __lt__() for <\n",
    ">>- __gt__() for >, and many more.\n",
    ">\n",
    "> When you use an operator with objects of your custom class, Python internally calls the corresponding special method.\n",
    ">\n",
    "> Example: Operator Overloading"
   ]
  },
  {
   "cell_type": "code",
   "execution_count": null,
   "id": "c7e80427-e7cf-4979-a098-e642ad7a4bd2",
   "metadata": {},
   "outputs": [],
   "source": [
    "class Vector:\n",
    "    def __init__(self, x, y):\n",
    "        self.x = x\n",
    "        self.y = y\n",
    "\n",
    "    def __add__(self, other):\n",
    "        return Vector(self.x + other.x, self.y + other.y)\n",
    "\n",
    "    def __str__(self):\n",
    "        return f\"Vector({self.x}, {self.y})\"\n",
    "\n",
    "v1 = Vector(2, 4)\n",
    "v2 = Vector(1, 3)\n",
    "v3 = v1 + v2\n",
    "print(v3)  # Output: Vector(3, 7)\n"
   ]
  },
  {
   "cell_type": "markdown",
   "id": "f1c32c2c-874d-40db-8bc4-64b913fbe76f",
   "metadata": {},
   "source": [
    "**Explanation:**\n",
    "\n",
    ">>- The + operator is overloaded to work with custom Vector objects.\n",
    ">>- Demonstrates polymorphism by allowing operators to behave differently based on the operands."
   ]
  },
  {
   "cell_type": "code",
   "execution_count": null,
   "id": "dafe9198-048d-47b7-aea1-479f532b1e02",
   "metadata": {},
   "outputs": [],
   "source": []
  }
 ],
 "metadata": {
  "kernelspec": {
   "display_name": "Python 3 (ipykernel)",
   "language": "python",
   "name": "python3"
  },
  "language_info": {
   "codemirror_mode": {
    "name": "ipython",
    "version": 3
   },
   "file_extension": ".py",
   "mimetype": "text/x-python",
   "name": "python",
   "nbconvert_exporter": "python",
   "pygments_lexer": "ipython3",
   "version": "3.12.4"
  }
 },
 "nbformat": 4,
 "nbformat_minor": 5
}

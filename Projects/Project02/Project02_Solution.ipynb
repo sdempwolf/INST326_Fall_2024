{
 "cells": [
  {
   "cell_type": "markdown",
   "id": "dacda302-a766-4f1a-b6fa-d05e1ecfcb58",
   "metadata": {},
   "source": [
    "## INST326 OOP Project 02"
   ]
  },
  {
   "cell_type": "markdown",
   "id": "6550a633-9e7e-48b6-a3d0-9e485cf815d5",
   "metadata": {},
   "source": [
    "Rename this notebook, replacing \"_Assignment\" with \"_YourName\"<br>\n",
    "Insert Signature Block Here"
   ]
  },
  {
   "cell_type": "markdown",
   "id": "4fbede66-c73b-436a-a46e-9b60ab190517",
   "metadata": {},
   "source": [
    "### Projects\n",
    "Choose **ONE** of the following projects and write to code solution in the code cell below your choice. Use comments in your code to document your solution. If you need to write comments to the grader, add a markdown cell immediately above your code solution and add your comments there. Be sure to read and follow the Notebook Instructions at the bottom of this notebook. Your grade may depend on it! "
   ]
  },
  {
   "cell_type": "markdown",
   "id": "327eb65b-6708-42e5-83a5-06dac02e2c41",
   "metadata": {},
   "source": []
  },
  {
   "cell_type": "markdown",
   "id": "a22fa651-49ff-4baa-9380-8d74bceff207",
   "metadata": {},
   "source": [
    "#### General Requirements\n",
    ">  All of the following options must meet the following requirements.\n",
    "> 1. All projects must use the \"app class template\" shown below to organize your code.\n",
    "> 2. All projects must automatically save content or history generated during use. A simple text file is sufficient, but other formats are OK too. Each program must automatically load the saved content when the app is started.\n",
    "> 3. Each program must attempt to follow OOP principles, meaning that your attributes and methods are organized into classes. The flow of your program should follow OOP principles of encapsulation and abstraction."
   ]
  },
  {
   "cell_type": "markdown",
   "id": "c6a921c8-189f-4708-a219-d42d8623a409",
   "metadata": {},
   "source": [
    "#### Program examples and getting started\n",
    ">  The AI generated examples included in module 08 are provided as 'prompts' to get you started thinking about your application. None of those examples meet all of the gemeral or specific requirements for the projects listed below. However, they do illustrate one way to solve some programming problems. Study them and then create your own application that meets all the requirements.\n",
    ">  To get started, you may want to sketch out what your app will look like on paper. Then think about the different parts of your sketch in terms of Tkinter widgets. Which parts are labels? entry boxes? buttons? list boxes? text boxes? check boxes? Think about the layout and the best way to place your widgets in the window. For many apps, using a grid layout is easiest, so think about, and maybe even sketch your app in a grid layout. Also think about whether you need frames to help organize the space in the window. Next, think about functionality. What do your buttons do? What happens when you click a checkbox? How and when are calculations done? What variables or attributes will you need? What methods would best handle your app's behavior? Finally, how might you organize your code into classes according to OOP principles? Notice that a lot of this planning happens with pen and paper, not python code. "
   ]
  },
  {
   "cell_type": "markdown",
   "id": "aebb8dd4-210a-4e59-b852-66b28a9877a0",
   "metadata": {},
   "source": [
    "#### 1. GUI Calculator App\n",
    ">  Create a simple GUI calculator app that meets the following requirements.\n",
    "> 1. All general requirements listed above.\n",
    "> 2. Your calculator should include buttons for digits [0-9].\n",
    "> 3. You should have buttons for the four arithmetic operators [+,-,*,/] and the equal sign [=]\n",
    "> 4. You should have a button to add a decimal point [.]\n",
    "> 5. You should have a button to toggle between positive and negative [+/-]\n",
    "> 6. You program should be able to save and retrieve a history of the last, say, 10 expressions evaluated by the calculator. Recall that an expression is everything you press up to, but not including, the equal sign.\n",
    "> 7. As discussed in class, the easiest approach to handling this is to use python's eval() function. eval() evaluates the contents of a string *as if* it was a mathematical expression. This makes a lot of the AI generated code in the example unnecessary. (This is not really a requirement. Just a suggestion.)\n",
    "> 8. Your calculator should have a button to toggle the display of history in your window. (see the lecture images included in module 08). You might think about this in terms of overlapping frames in your window that you can toggle between.\n",
    "> 9. Create whatever classes you need below the \"app class\", then call those classes and methods in your app class like we did in example 2 from lecture 6."
   ]
  },
  {
   "cell_type": "markdown",
   "id": "9bf4c0f5-ee63-462b-a657-019961c59499",
   "metadata": {},
   "source": [
    "#### GUI To-do list app\n",
    "> Create a simple to-do list app that meets the following requirements.\n",
    "> 1. All general requirements listed above.\n",
    "> 2. The abillity to add tasks\n",
    "> 3. The ability to mark tasks completed.\n",
    "> 4. The ability to delete tasks.\n",
    "> 5. While you may follow the format used in the example, the Tkinter checkbox widget would be better.\n",
    "> 6. The features listed above are all that is requires. You may add additional features if you like. For example, you may want to include due dates.\n",
    "> 7. Create whatever classes you need below the \"app class\", then call those classes and methods in your app class like we did in example 2 from lecture 6."
   ]
  },
  {
   "cell_type": "markdown",
   "id": "7b68c07e-c797-43f7-a9fe-9f649174309a",
   "metadata": {},
   "source": [
    "#### GUI Contact app\n",
    "> Create a simple contact app that meets the following requirements.\n",
    "> 1. All general requirements listed above.\n",
    "> 2. The ability to add contacts.\n",
    "> 3. The ability to edit contacts.\n",
    "> 4. The ability to delete contacts.\n",
    "> 5. The ability to search contacts. The AI example code only does exact match. Your code should be capable of partial matching.\n",
    "> 6. Minimum fields include name, phone, and email. You may add additional fields if you like.\n",
    "> 7. You may add additional functionality if you wish, but it is not required. for example, you might include code to format or validate phone numbers or email addresses.\n",
    "> 8. Create whatever classes you need below the \"app class\", then call those classes and methods in your app class like we did in example 2 from lecture 6."
   ]
  },
  {
   "cell_type": "markdown",
   "id": "249294e6-535c-4cc3-bd76-1d9bde091432",
   "metadata": {},
   "source": [
    "#### App Class Example from Lecture 06"
   ]
  },
  {
   "cell_type": "code",
   "execution_count": null,
   "id": "be3e8752-d30f-47e2-ba3a-cc9ef20715f9",
   "metadata": {},
   "outputs": [],
   "source": [
    "# original program source: https://youtu.be/eaxPK9VIkFM?si=84asxl8ZLjPuy9Nv\n",
    "import tkinter as tk\n",
    "from tkinter import ttk\n",
    "\n",
    "class App(tk.Tk):\n",
    "\tdef __init__(self, title, size):\n",
    "\t\t\n",
    "\t\t# main setup\n",
    "\t\tsuper().__init__()\n",
    "\t\tself.title(title)\n",
    "\t\tself.geometry(f'{size[0]}x{size[1]}')\n",
    "\t\tself.minsize(size[0],size[1])\n",
    "\n",
    "\t\t# widgets\n",
    "        # this is where you call your other classes\n",
    "\t\tself.menu = Menu(self) # delete this example in your own code\n",
    "        self.main = Main(self) # delete this example in your own code\n",
    "\n",
    "\t\t# run \n",
    "\t\tself.mainloop()\n",
    "\n",
    "# write your own classes below. delete the example classes once you understand how things work.\n",
    "\n",
    "class Menu(ttk.Frame):\n",
    "\tdef __init__(self, parent):\n",
    "\t\tsuper().__init__(parent)\n",
    "\t\tself.place(x = 0, y = 0, relwidth = 0.3, relheight = 1)\n",
    "\n",
    "\t\tself.create_widgets()\n",
    "\n",
    "\tdef create_widgets(self):\n",
    "\t\t\n",
    "\t\t# create the widgets \n",
    "\t\tmenu_button1 = ttk.Button(self, text = 'Button 1')\n",
    "\t\tmenu_button2 = ttk.Button(self, text = 'Button 2')\n",
    "\t\tmenu_button3 = ttk.Button(self, text = 'Button 3')\n",
    "\n",
    "\t\tmenu_slider1 = ttk.Scale(self, orient = 'vertical')\n",
    "\t\tmenu_slider2 = ttk.Scale(self, orient = 'vertical')\n",
    "\n",
    "\t\ttoggle_frame = ttk.Frame(self)\n",
    "\t\tmenu_toggle1 = ttk.Checkbutton(toggle_frame, text = 'check 1')\n",
    "\t\tmenu_toggle2 = ttk.Checkbutton(toggle_frame, text = 'check 2')\n",
    "\n",
    "\t\tentry = ttk.Entry(self)\n",
    "\n",
    "\t\t# create the grid\n",
    "\t\tself.columnconfigure((0,1,2), weight = 1, uniform = 'a')\n",
    "\t\tself.rowconfigure((0,1,2,3,4), weight = 1, uniform = 'a')\n",
    "\n",
    "\t\t# place the widgets \n",
    "\t\tmenu_button1.grid(row = 0, column = 0, sticky = 'nswe', columnspan = 2)\n",
    "\t\tmenu_button2.grid(row = 0, column = 2, sticky = 'nswe')\n",
    "\t\tmenu_button3.grid(row = 1, column = 0, columnspan = 3, sticky = 'nsew')\n",
    "\n",
    "\t\tmenu_slider1.grid(row = 2, column = 0, rowspan = 2, sticky = 'nsew', pady = 20)\n",
    "\t\tmenu_slider2.grid(row = 2, column = 2, rowspan = 2, sticky = 'nsew', pady = 20)\n",
    "\n",
    "\t\t# toggle layout\n",
    "\t\ttoggle_frame.grid(row = 4, column = 0, columnspan = 3, sticky = 'nsew')\n",
    "\t\tmenu_toggle1.pack(side = 'left', expand = True)\n",
    "\t\tmenu_toggle2.pack(side = 'left', expand = True)\n",
    "\n",
    "\t\t# entry layout\n",
    "\t\tentry.place(relx = 0.5, rely = 0.95, relwidth = 0.9, anchor = 'center')\t\t\n",
    "\n",
    "class Main(ttk.Frame):\n",
    "\tdef __init__(self, parent):\n",
    "\t\tsuper().__init__(parent)\n",
    "\t\tself.place(relx = 0.3, y = 0, relwidth = 0.7, relheight = 1)\n",
    "\t\tEntry(self, 'Entry 1','Button 1','green')\n",
    "\t\tEntry(self, 'Entry 2','Button 2','blue')\n",
    "\t\tEntry(self, 'Entry 3','Button 3','green')\n",
    "\n",
    "class Entry(ttk.Frame):\n",
    "\tdef __init__(self, parent, label_text, button_text, label_background):\n",
    "\t\tsuper().__init__(parent)\n",
    "\n",
    "\t\tlabel = ttk.Label(self, text = label_text, background = label_background)\n",
    "\t\tbutton = ttk.Button(self, text = button_text)\n",
    "\n",
    "\t\tlabel.pack(expand = True, fill = 'both')\n",
    "\t\tbutton.pack(expand = True, fill = 'both', pady = 10)\n",
    "\n",
    "\t\tself.pack(side = 'left', expand = True, fill = 'both', padx = 20, pady = 20)\n",
    "\n",
    "# execution code\n",
    "App('Class based app', (600,600))"
   ]
  },
  {
   "cell_type": "markdown",
   "id": "d4053bd4-75d4-4c90-9191-1220bcc4259d",
   "metadata": {},
   "source": [
    "#### App class template\n",
    "> Use the template below to write your code. Write you own classes below the comment, then call them in the app class."
   ]
  },
  {
   "cell_type": "code",
   "execution_count": null,
   "id": "8e4847d3-ec5a-4601-b10f-4f468d5ffc6d",
   "metadata": {},
   "outputs": [],
   "source": [
    "import tkinter as tk\n",
    "from tkinter import ttk\n",
    "\n",
    "class App(tk.Tk):\n",
    "\tdef __init__(self, title, size):\n",
    "\t\t\n",
    "\t\t# main setup\n",
    "\t\tsuper().__init__()\n",
    "\t\tself.title(title)\n",
    "\t\tself.geometry(f'{size[0]}x{size[1]}')\n",
    "\t\tself.minsize(size[0],size[1])\n",
    "\n",
    "\t\t# widgets\n",
    "        # this is where you call your other classes\n",
    "\t\tself.menu = Menu(self) # delete this example in your own code\n",
    "\n",
    "\n",
    "\t\t# run \n",
    "\t\tself.mainloop()\n",
    "\n",
    "# Write your own classes below\n",
    "\n",
    "\n",
    "\n",
    "# execution code\n",
    "App('Class based app', (600,600)) #edit to insert your own title and windoe size"
   ]
  }
 ],
 "metadata": {
  "kernelspec": {
   "display_name": "Python 3 (ipykernel)",
   "language": "python",
   "name": "python3"
  },
  "language_info": {
   "codemirror_mode": {
    "name": "ipython",
    "version": 3
   },
   "file_extension": ".py",
   "mimetype": "text/x-python",
   "name": "python",
   "nbconvert_exporter": "python",
   "pygments_lexer": "ipython3",
   "version": "3.12.4"
  }
 },
 "nbformat": 4,
 "nbformat_minor": 5
}

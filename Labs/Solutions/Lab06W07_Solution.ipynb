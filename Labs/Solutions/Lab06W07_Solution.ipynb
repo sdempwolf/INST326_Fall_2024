{
 "cells": [
  {
   "cell_type": "markdown",
   "id": "f6caebc5-1ae7-4cea-80ed-7fb1ecc9ea30",
   "metadata": {},
   "source": [
    "## INST326 OOP Lab 06W07"
   ]
  },
  {
   "cell_type": "markdown",
   "id": "c4cc6a63-d4ce-4041-a7a2-6a8a9673f25f",
   "metadata": {},
   "source": [
    "Rename this notebook, replacing _Assignment with _YourName<br>\n",
    "Copy your signature block into the cell below"
   ]
  },
  {
   "cell_type": "markdown",
   "id": "44394c47-36a8-4deb-a260-7cb061ba4cae",
   "metadata": {},
   "source": []
  },
  {
   "cell_type": "markdown",
   "id": "4f7ab8c9-ee13-4b9b-b7fb-759a21e85d45",
   "metadata": {},
   "source": [
    "### Exercises\n",
    "These exercises cover various aspects of using GitHub for collaborative programming, helping you to understand how to create and manage repositories, work with branches and pull requests, handle conflicts, and use GitHub features like issues, project boards, actions, and pages."
   ]
  },
  {
   "cell_type": "markdown",
   "id": "c6126c82-b954-412e-944e-8b057a8f7178",
   "metadata": {},
   "source": [
    "#### 1. Create a New Repository\n",
    ">  Create a new repository on GitHub. Clone it to your local machine and add a <font color=green>README.md</font> file. Push the changes to the remote repository."
   ]
  },
  {
   "cell_type": "code",
   "execution_count": null,
   "id": "2fa9bafa-fe12-48a7-a0f9-85fb7c84060b",
   "metadata": {},
   "outputs": [],
   "source": [
    "# Solution - enter your code solution below\n",
    "# 1. Go to GitHub and create a new repository named \"example-repo\".\n",
    "# 2. Clone it to your local machine and add a `README.md` file. Push the changes to the remote repository.\n",
    "\n",
    "!git clone https://github.com/your-username/example-repo.git\n",
    "!cd example-repo && echo \"# Example Repo\" > README.md\n",
    "!cd example-repo && git add README.md\n",
    "!cd example-repo && git commit -m \"Add README.md\"\n",
    "!cd example-repo && git push origin main"
   ]
  },
  {
   "cell_type": "markdown",
   "id": "2a7dbeab-f0e8-4275-bf15-c1db345482a1",
   "metadata": {
    "tags": []
   },
   "source": [
    "#### 2. Branching\n",
    ">  Create a new branch named <font color=green>feature1</font> in your repository. Make a change to the <font color=green>README.md</font> file and push the branch to GitHub."
   ]
  },
  {
   "cell_type": "code",
   "execution_count": null,
   "id": "55e2a23f-e4a2-44f8-bbcb-8800aa902073",
   "metadata": {},
   "outputs": [],
   "source": [
    "# Solution - enter your code solution below\n",
    "# Create a new branch named `feature1` in your repository. Make a change to the `README.md` file and push the branch to GitHub.\n",
    "\n",
    "!cd example-repo && git checkout -b feature1\n",
    "!cd example-repo && echo \"This is feature1 branch\" >> README.md\n",
    "!cd example-repo && git add README.md\n",
    "!cd example-repo && git commit -m \"Update README.md with feature1\"\n",
    "!cd example-repo && git push origin feature1"
   ]
  },
  {
   "cell_type": "markdown",
   "id": "4902990b-f5ab-4d5e-aa80-4c60f6d2da4e",
   "metadata": {
    "tags": []
   },
   "source": [
    "#### 3. Pull Request\n",
    ">  Create a pull request (PR) from the <font color=green>feature1</font> branch to the <font color=green>main</font> branch. Add a description to the PR and assign a reviewer."
   ]
  },
  {
   "cell_type": "code",
   "execution_count": null,
   "id": "b3fdabfc-bc95-42a4-9eef-8e7b5800efdb",
   "metadata": {},
   "outputs": [],
   "source": [
    "# Solution - enter your code solution below\n",
    "# Create a pull request (PR) from the `feature1` branch to the `main` branch. Add a description to the PR and assign a reviewer.\n",
    "\n",
    "# On GitHub:\n",
    "# 1. Go to your repository on GitHub.\n",
    "# 2. Click \"Pull requests\" > \"New pull request\".\n",
    "# 3. Select \"feature1\" as the branch you want to merge into \"main\".\n",
    "# 4. Add a title and description, and assign a reviewer.\n",
    "# 5. Click \"Create pull request\"."
   ]
  },
  {
   "cell_type": "markdown",
   "id": "c05c7d93-7683-4164-9094-4d4f193716c9",
   "metadata": {
    "tags": []
   },
   "source": [
    "#### 4. Merge Pull Request\n",
    ">  Merge the <font color=green>feature1</font> branch into the <font color=green>\n",
    "main</font> branch using GitHub’s web interface. Delete the <font color=green>feature1</font> branch after merging."
   ]
  },
  {
   "cell_type": "code",
   "execution_count": null,
   "id": "04c8c068-2dcb-4f3a-8e4e-c659feb44478",
   "metadata": {},
   "outputs": [],
   "source": [
    "# Solution - enter your code solution below\n",
    "# Merge the `feature1` branch into the `main` branch using GitHub’s web interface. Delete the `feature1` branch after merging.\n",
    "\n",
    "# On GitHub:\n",
    "# 1. Go to your pull request.\n",
    "# 2. Click \"Merge pull request\".\n",
    "# 3. Confirm the merge.\n",
    "# 4. Delete the \"feature1\" branch."
   ]
  },
  {
   "cell_type": "markdown",
   "id": "4c346df7-7124-45c0-ad33-ba224bef9cc1",
   "metadata": {
    "tags": []
   },
   "source": [
    "#### 5. Collaborating with Others\n",
    ">  Add a collaborator to your repository. Have the collaborator clone the repository, create a new branch, make a change, and create a pull request."
   ]
  },
  {
   "cell_type": "code",
   "execution_count": null,
   "id": "4638d0c4-8140-469f-a9aa-04f17ee57dd6",
   "metadata": {},
   "outputs": [],
   "source": [
    "# Solution - enter your code solution below\n",
    "# Add a collaborator to your repository. Have the collaborator clone the repository, create a new branch, make a change, and create a pull request.\n",
    "\n",
    "# On GitHub:\n",
    "# 1. Go to your repository.\n",
    "# 2. Click \"Settings\" > \"Manage access\" > \"Invite a collaborator\".\n",
    "# 3. Enter the collaborator's username and send the invite.\n",
    "\n",
    "# Collaborator's machine:\n",
    "!git clone https://github.com/your-username/example-repo.git\n",
    "!cd example-repo && git checkout -b collaborator-feature\n",
    "!cd example-repo && echo \"Collaborator's changes\" >> README.md\n",
    "!cd example-repo && git add README.md\n",
    "!cd example-repo && git commit -m \"Add collaborator's changes\"\n",
    "!cd example-repo && git push origin collaborator-feature\n",
    "\n",
    "# On GitHub:\n",
    "# 1. Go to your repository.\n",
    "# 2. Click \"Pull requests\" > \"New pull request\".\n",
    "# 3. Select \"collaborator-feature\" as the branch to merge into \"main\".\n",
    "# 4. Create and merge the pull request."
   ]
  },
  {
   "cell_type": "markdown",
   "id": "106397b3-2eb9-4eb9-a3c7-3b4dc7f6bc3e",
   "metadata": {
    "tags": []
   },
   "source": [
    "#### 6. Resolving Merge Conflicts\n",
    ">  Simulate a merge conflict by having two collaborators edit the same line in the <font color=green>\n",
    "README.md</font> file in different branches. Merge the branches and resolve the conflict."
   ]
  },
  {
   "cell_type": "code",
   "execution_count": null,
   "id": "5ddd2d20-59bb-47ab-a2a1-b2c358730c90",
   "metadata": {},
   "outputs": [],
   "source": [
    "# Solution - enter your code solution below\n",
    "# Simulate a merge conflict by having two collaborators edit the same line in the `README.md` file in different branches. Merge the branches and resolve the conflict.\n",
    "\n",
    "# Collaborator 1:\n",
    "!cd example-repo && git checkout -b conflict-branch1\n",
    "!cd example-repo && echo \"Line from collaborator 1\" >> README.md\n",
    "!cd example-repo && git add README.md\n",
    "!cd example-repo && git commit -m \"Add line from collaborator 1\"\n",
    "!cd example-repo && git push origin conflict-branch1\n",
    "\n",
    "# Collaborator 2:\n",
    "!cd example-repo && git checkout -b conflict-branch2\n",
    "!cd example-repo && echo \"Line from collaborator 2\" >> README.md\n",
    "!cd example-repo && git add README.md\n",
    "!cd example-repo && git commit -m \"Add line from collaborator 2\"\n",
    "!cd example-repo && git push origin conflict-branch2\n",
    "\n",
    "# On GitHub:\n",
    "# 1. Merge conflict-branch1 into main.\n",
    "# 2. Attempt to merge conflict-branch2 into main to create a conflict.\n",
    "\n",
    "# Resolving conflict:\n",
    "!cd example-repo && git checkout main\n",
    "!cd example-repo && git pull origin main\n",
    "!cd example-repo && git checkout conflict-branch2\n",
    "!cd example-repo && git merge main\n",
    "# Resolve conflicts in README.md manually\n",
    "!cd example-repo && git add README.md\n",
    "!cd example-repo && git commit -m \"Resolve merge conflict\"\n",
    "!cd example-repo && git push origin conflict-branch2\n",
    "# Merge conflict-branch2 into main on GitHub."
   ]
  },
  {
   "cell_type": "markdown",
   "id": "c17357c5-adaa-43ec-90a6-2508b58dc763",
   "metadata": {
    "tags": []
   },
   "source": [
    "#### 7. GitHub Issues\n",
    ">  Create an issue in your repository describing a bug or feature request. Assign the issue to yourself or a collaborator."
   ]
  },
  {
   "cell_type": "code",
   "execution_count": null,
   "id": "a265c150-417f-4913-9dba-c3e5d310990b",
   "metadata": {},
   "outputs": [],
   "source": [
    "# Solution - enter your code solution below\n",
    "# Create an issue in your repository describing a bug or feature request. Assign the issue to yourself or a collaborator.\n",
    "\n",
    "# On GitHub:\n",
    "# 1. Go to your repository.\n",
    "# 2. Click \"Issues\" > \"New issue\".\n",
    "# 3. Add a title and description for the issue.\n",
    "# 4. Assign the issue to yourself or a collaborator."
   ]
  },
  {
   "cell_type": "markdown",
   "id": "30f1cd2a-bf07-4ea5-838b-f5489954e376",
   "metadata": {
    "tags": []
   },
   "source": [
    "#### 8. GitHub Project Board\n",
    ">  Create a project board on GitHub for your repository. Add columns such as \"To Do\", \"In Progress\", and \"Done\". Move an issue from \"To Do\" to \"Done\"."
   ]
  },
  {
   "cell_type": "code",
   "execution_count": null,
   "id": "0b78299a-d191-490f-97d5-90c11f39453d",
   "metadata": {},
   "outputs": [],
   "source": [
    "# Solution - enter your code solution below\n",
    "# Create a project board on GitHub for your repository. Add columns such as \"To Do\", \"In Progress\", and \"Done\". Move an issue from \"To Do\" to \"Done\".\n",
    "\n",
    "# On GitHub:\n",
    "# 1. Go to your repository.\n",
    "# 2. Click \"Projects\" > \"New project\".\n",
    "# 3. Select \"Board\" and name it \"Project Board\".\n",
    "# 4. Add columns \"To Do\", \"In Progress\", and \"Done\".\n",
    "# 5. Move an issue from \"To Do\" to \"Done\"."
   ]
  },
  {
   "cell_type": "markdown",
   "id": "22645aff-9e47-42d6-9c4a-96ffce9ec5da",
   "metadata": {
    "tags": []
   },
   "source": [
    "#### 9. GitHub Actions\n",
    ">  Set up a simple GitHub Action in your repository to automatically run tests when a pull request is created. Use a sample workflow file."
   ]
  },
  {
   "cell_type": "code",
   "execution_count": null,
   "id": "30148f2c-57a3-4f81-b743-4a8a38293130",
   "metadata": {},
   "outputs": [],
   "source": [
    "# Solution - enter your code solution below\n",
    "# Set up a simple GitHub Action in your repository to automatically run tests when a pull request is created. Use a sample workflow file.\n",
    "\n",
    "# Create a file `.github/workflows/test.yml` with the following content:\n",
    "!mkdir -p example-repo/.github/workflows\n",
    "%%writefile example-repo/.github/workflows/test.yml\n",
    "name: Python application\n",
    "\n",
    "on: [push, pull_request]\n",
    "\n",
    "jobs:\n",
    "  build:\n",
    "\n",
    "    runs-on: ubuntu-latest\n",
    "\n",
    "    steps:\n",
    "    - uses: actions/checkout@v2\n",
    "    - name: Set up Python\n",
    "      uses: actions/setup-python@v2\n",
    "      with:\n",
    "        python-version: 3.x\n",
    "    - name: Install dependencies\n",
    "      run: |\n",
    "        python -m pip install --upgrade pip\n",
    "        pip install -r requirements.txt\n",
    "    - name: Run tests\n",
    "      run: |\n",
    "        python -m unittest discover"
   ]
  },
  {
   "cell_type": "markdown",
   "id": "6059ec7e-e3c1-4727-9a42-19a8a2c2db9e",
   "metadata": {
    "tags": []
   },
   "source": [
    "#### 10. Documentation with GitHub Pages\n",
    ">  Create a GitHub Pages site for your repository. Add a markdown file to the <font color=green>\n",
    "docs</font> directory and configure the site to display the documentation."
   ]
  },
  {
   "cell_type": "code",
   "execution_count": null,
   "id": "b42c811e-5a46-4a3b-ae80-0ab224354477",
   "metadata": {
    "tags": []
   },
   "outputs": [],
   "source": [
    "# Solution - enter your code solution below\n",
    "# Create a GitHub Pages site for your repository. Add a markdown file to the `docs` directory and configure the site to display the documentation.\n",
    "\n",
    "# On GitHub:\n",
    "# 1. Go to your repository.\n",
    "# 2. Create a `docs` directory and add a markdown file, e.g., `docs/index.md`.\n",
    "!mkdir -p example-repo/docs\n",
    "%%writefile example-repo/docs/index.md\n",
    "# Example Documentation\n",
    "\n",
    "Welcome to the example documentation site.\n",
    "\n",
    "# 3. Go to \"Settings\" > \"Pages\".\n",
    "# 4. Select the `main` branch and `/docs` folder.\n",
    "# 5. Save and visit the GitHub Pages URL provided."
   ]
  }
 ],
 "metadata": {
  "kernelspec": {
   "display_name": "Python 3 (ipykernel)",
   "language": "python",
   "name": "python3"
  },
  "language_info": {
   "codemirror_mode": {
    "name": "ipython",
    "version": 3
   },
   "file_extension": ".py",
   "mimetype": "text/x-python",
   "name": "python",
   "nbconvert_exporter": "python",
   "pygments_lexer": "ipython3",
   "version": "3.11.5"
  }
 },
 "nbformat": 4,
 "nbformat_minor": 5
}

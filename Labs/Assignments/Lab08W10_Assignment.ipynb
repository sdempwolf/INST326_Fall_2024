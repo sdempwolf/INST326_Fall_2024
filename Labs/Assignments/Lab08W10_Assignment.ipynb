{
 "cells": [
  {
   "cell_type": "markdown",
   "id": "f6caebc5-1ae7-4cea-80ed-7fb1ecc9ea30",
   "metadata": {},
   "source": [
    "## INST326 OOP Lab 08W10"
   ]
  },
  {
   "cell_type": "markdown",
   "id": "c4cc6a63-d4ce-4041-a7a2-6a8a9673f25f",
   "metadata": {},
   "source": [
    "Rename this notebook, replacing _Assignment with _YourName<br>\n",
    "Copy your signature block into the cell below"
   ]
  },
  {
   "cell_type": "markdown",
   "id": "44394c47-36a8-4deb-a260-7cb061ba4cae",
   "metadata": {},
   "source": []
  },
  {
   "cell_type": "markdown",
   "id": "4f7ab8c9-ee13-4b9b-b7fb-759a21e85d45",
   "metadata": {},
   "source": [
    "### Exercises\n",
    "These exercises focus on  implementing OOP principles of inheritance and polymorphism."
   ]
  },
  {
   "cell_type": "markdown",
   "id": "c6126c82-b954-412e-944e-8b057a8f7178",
   "metadata": {},
   "source": [
    "#### 1. Basic Inheritance\n",
    ">  Create a base class <font color=green>Animal</font> with a method <font color=green>make_sound</font>. Then create subclasses <font color=green>Dog</font> and <font color=green>Cat</font> that override the <font color=green>make_sound</font> method."
   ]
  },
  {
   "cell_type": "code",
   "execution_count": null,
   "id": "2fa9bafa-fe12-48a7-a0f9-85fb7c84060b",
   "metadata": {},
   "outputs": [],
   "source": [
    "# Solution - enter your code solution below\n"
   ]
  },
  {
   "cell_type": "markdown",
   "id": "2a7dbeab-f0e8-4275-bf15-c1db345482a1",
   "metadata": {
    "tags": []
   },
   "source": [
    "#### 2. Vehicle Inheritance\n",
    ">  Create a base class <font color=green>Vehicle</font> with attributes <font color=green>make</font> and <font color=green>model</font>, and a method <font color=green>description</font>. Create subclasses <font color=green>Car</font> and <font color=green>Bike</font> that add specific attributes and override the <font color=green>description</font> method."
   ]
  },
  {
   "cell_type": "code",
   "execution_count": null,
   "id": "55e2a23f-e4a2-44f8-bbcb-8800aa902073",
   "metadata": {},
   "outputs": [],
   "source": [
    "# Solution - enter your code solution below\n"
   ]
  },
  {
   "cell_type": "markdown",
   "id": "4902990b-f5ab-4d5e-aa80-4c60f6d2da4e",
   "metadata": {
    "tags": []
   },
   "source": [
    "#### 3. Person and Employee Inheritance\n",
    ">  Create a base class <font color=green>Person</font> with attributes <font color=green>name</font> and <font color=green>age</font>. Create a subclass <font color=green>Employee</font> that adds an attribute <font color=green>salary</font> and a method <font color=green>work</font>."
   ]
  },
  {
   "cell_type": "code",
   "execution_count": null,
   "id": "b3fdabfc-bc95-42a4-9eef-8e7b5800efdb",
   "metadata": {},
   "outputs": [],
   "source": [
    "# Solution - enter your code solution below\n"
   ]
  },
  {
   "cell_type": "markdown",
   "id": "c05c7d93-7683-4164-9094-4d4f193716c9",
   "metadata": {
    "tags": []
   },
   "source": [
    "#### 4. Shape Inheritance and Polymorphism\n",
    ">  Create a base class <font color=green>Shape</font> with a method <font color=green>calculate_area</font>. Implement subclasses <font color=green>Circle</font> and <font color=green>Rectangle</font> that provide specific implementations for the <font color=green>calculate_area</font> method."
   ]
  },
  {
   "cell_type": "code",
   "execution_count": null,
   "id": "04c8c068-2dcb-4f3a-8e4e-c659feb44478",
   "metadata": {},
   "outputs": [],
   "source": [
    "# Solution - enter your code solution below\n"
   ]
  },
  {
   "cell_type": "markdown",
   "id": "4c346df7-7124-45c0-ad33-ba224bef9cc1",
   "metadata": {
    "tags": []
   },
   "source": [
    "#### 5. Bank Account Inheritance\n",
    ">  Create a base class <font color=green>BankAccount</font> with attributes <font color=green>account_number</font> and <font color=green>balance</font>. Create subclasses <font color=green>SavingsAccount</font> and <font color=green>CheckingAccount</font> that add specific features and methods."
   ]
  },
  {
   "cell_type": "code",
   "execution_count": null,
   "id": "4638d0c4-8140-469f-a9aa-04f17ee57dd6",
   "metadata": {},
   "outputs": [],
   "source": [
    "# Solution - enter your code solution below\n"
   ]
  },
  {
   "cell_type": "markdown",
   "id": "106397b3-2eb9-4eb9-a3c7-3b4dc7f6bc3e",
   "metadata": {
    "tags": []
   },
   "source": [
    "#### 6. Animal Inheritance and Polymorphism\n",
    ">  Create a base class <font color=green>Animal</font> with a method <font color=green>make_sound</font>. Create subclasses <font color=green>Dog</font>, <font color=green>Cat</font>, and <font color=green>Bird</font> that override the <font color=green>make_sound</font> method. Write a function that takes an <font color=green>Animal</font> object and calls its <font color=green>make_sound</font> method, demonstrating polymorphism."
   ]
  },
  {
   "cell_type": "code",
   "execution_count": null,
   "id": "5ddd2d20-59bb-47ab-a2a1-b2c358730c90",
   "metadata": {},
   "outputs": [],
   "source": [
    "# Solution - enter your code solution below\n"
   ]
  },
  {
   "cell_type": "markdown",
   "id": "c17357c5-adaa-43ec-90a6-2508b58dc763",
   "metadata": {
    "tags": []
   },
   "source": [
    "#### 7. Employee and Manager Inheritance\n",
    ">  Create a base class <font color=green>Employee</font> with attributes <font color=green>name</font> and <font color=green>salary</font>. Create a subclass <font color=green>Manager</font> that adds an attribute <font color=green>team</font> (a list of employees) and a method <font color=green> add_team_member</font>."
   ]
  },
  {
   "cell_type": "code",
   "execution_count": null,
   "id": "a265c150-417f-4913-9dba-c3e5d310990b",
   "metadata": {},
   "outputs": [],
   "source": [
    "# Solution - enter your code solution below\n"
   ]
  },
  {
   "cell_type": "markdown",
   "id": "30f1cd2a-bf07-4ea5-838b-f5489954e376",
   "metadata": {
    "tags": []
   },
   "source": [
    "#### 8. File Reader Inheritance\n",
    ">  Create a base class <font color=green>FileReader</font> with a method <font color=green>read</font> that reads the content of a file. Create subclasses <font color=green>TextFileReader</font> and <font color=green>CSVFileReader</font> that override the <font color=green>read</font> method to handle specific file types."
   ]
  },
  {
   "cell_type": "code",
   "execution_count": null,
   "id": "0b78299a-d191-490f-97d5-90c11f39453d",
   "metadata": {},
   "outputs": [],
   "source": [
    "# Solution - enter your code solution below\n"
   ]
  },
  {
   "cell_type": "markdown",
   "id": "22645aff-9e47-42d6-9c4a-96ffce9ec5da",
   "metadata": {
    "tags": []
   },
   "source": [
    "#### 9. Library Item Inheritance\n",
    ">  Create a base class <font color=green>LibraryItem</font> with attributes <font color=green>title</font> and <font color=green>author</font>. Create subclasses <font color=green>Book</font> and <font color=green>Magazine</font> that add specific attributes and methods."
   ]
  },
  {
   "cell_type": "code",
   "execution_count": null,
   "id": "30148f2c-57a3-4f81-b743-4a8a38293130",
   "metadata": {},
   "outputs": [],
   "source": [
    "# Solution - enter your code solution below\n"
   ]
  },
  {
   "cell_type": "markdown",
   "id": "6059ec7e-e3c1-4727-9a42-19a8a2c2db9e",
   "metadata": {
    "tags": []
   },
   "source": [
    "#### 10. Transportation Inheritance and Polymorphism\n",
    ">  Create a base class <font color=green>Transportation</font> with a method <font color=green>move</font>. Create subclasses <font color=green>Car</font>, <font color=green>Bicycle</font>, and <font color=green>Airplane</font> that override the <font color=green>move</font> method. Write a function that takes a <font color=green>Transportation</font> object and calls its <font color=green>move</font> method, demonstrating polymorphism."
   ]
  },
  {
   "cell_type": "code",
   "execution_count": null,
   "id": "b42c811e-5a46-4a3b-ae80-0ab224354477",
   "metadata": {
    "tags": []
   },
   "outputs": [],
   "source": [
    "# Solution - enter your code solution below\n"
   ]
  },
  {
   "cell_type": "markdown",
   "id": "0ef3c36f-63c9-4bc0-948a-3b204714e791",
   "metadata": {},
   "source": [
    "### Notebook Instructions\n",
    "> Before turning in your notebook:\n",
    "> 1. Make sure you have renamed the notebook file as instructed\n",
    "> 2. Make sure you have included your signature block and that it is correct according to the instructions\n",
    "> 3. comment your code as necessary\n",
    "> 4. run all code cells and double check that they run correctly<br><br>\n",
    "Turn in your notebook by uploading it to ELMS<br>\n",
    "IF the exercises involve saved data files, put your notebook and the data file(s) in a zip folder and upload the zip folder to ELMS"
   ]
  }
 ],
 "metadata": {
  "kernelspec": {
   "display_name": "Python 3 (ipykernel)",
   "language": "python",
   "name": "python3"
  },
  "language_info": {
   "codemirror_mode": {
    "name": "ipython",
    "version": 3
   },
   "file_extension": ".py",
   "mimetype": "text/x-python",
   "name": "python",
   "nbconvert_exporter": "python",
   "pygments_lexer": "ipython3",
   "version": "3.11.5"
  }
 },
 "nbformat": 4,
 "nbformat_minor": 5
}

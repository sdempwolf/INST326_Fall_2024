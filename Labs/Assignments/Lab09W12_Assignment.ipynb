{
 "cells": [
  {
   "cell_type": "markdown",
   "id": "6a0708c0-ca35-47d8-a2ce-f674e6d7fa49",
   "metadata": {},
   "source": [
    "## INST326 OOP Lab 09W12"
   ]
  },
  {
   "cell_type": "markdown",
   "id": "2bb7f115-9eba-4f29-918e-b016e6a7edc8",
   "metadata": {},
   "source": [
    "Rename this notebook, replacing _Assignment with _YourName<br>\n",
    "Copy your signature block into the cell below"
   ]
  },
  {
   "cell_type": "code",
   "execution_count": null,
   "id": "909de2a2-33f2-4ba3-b491-a5187e96d0b5",
   "metadata": {},
   "outputs": [],
   "source": []
  },
  {
   "cell_type": "markdown",
   "id": "8ee05bdb-db2d-41c2-9f23-3af75d058612",
   "metadata": {},
   "source": [
    "### Exercises\n",
    "Here are 10 exercises focusing on inheritance in Python OOP, along with solutions. These exercises introduce inheritance basics, subclassing, method overriding, and using <font color=green>super()</font>."
   ]
  },
  {
   "cell_type": "markdown",
   "id": "a1c98e85-2c64-4a03-8309-d91035cca6d2",
   "metadata": {},
   "source": [
    "#### 1. Basic Inheritance\n",
    ">  Create a class <font color=green>Animal</font> with a method <font color=green>speak()</font> that returns <font color=green>\"Some sounds\"</font>. Then create a subclass <font color=green>Dog</font> that inherits from <font color=green>Animal</font> and overrides the <font color=green>speak()</font> method to return <font color=green>\"Bark\"</font>. "
   ]
  },
  {
   "cell_type": "code",
   "execution_count": 2,
   "id": "8cf9723f-1ab6-4461-90b6-637a177e0f5a",
   "metadata": {
    "tags": []
   },
   "outputs": [],
   "source": [
    "# Solution - enter your code solution below\n"
   ]
  },
  {
   "cell_type": "markdown",
   "id": "28b28d8a-dbb3-4f15-bbe0-e14504b84876",
   "metadata": {},
   "source": [
    "#### 2. Using super() in Inheritance\n",
    ">  Create a class <font color=green>Person</font> with an <font color=green>__init__()</font> method that takes a <font color=green>name</font> parameter. Create a subclass <font color=green>Student</font> that also takes an additional parameter <font color=green>student_id</font> and uses <font color=green>super()</font> to initialize <font color=green>name</font>."
   ]
  },
  {
   "cell_type": "code",
   "execution_count": 3,
   "id": "e655cf9f-d2fc-4541-918f-8d85b1c04e94",
   "metadata": {
    "tags": []
   },
   "outputs": [],
   "source": [
    "# Solution - enter your code solution below\n"
   ]
  },
  {
   "cell_type": "markdown",
   "id": "6708f6cf-aac7-430e-947d-6f9c8dd161f6",
   "metadata": {},
   "source": [
    "#### 3. Multiple Inheritance\n",
    ">  Create a class <font color=green>Flyable</font> with a method <font color=green>fly()</font> that returns <font color=green>\"Flying\"</font>. Create another class <font color=green>Swimmable</font> with a method <font color=green>swim()</font> that returns <font color=green>\"Swimming\"</font>. Create a <font color=green>Duck</font> class that inherits from both <font color=green>Flyable</font> and <font color=green>Swimmable</font>."
   ]
  },
  {
   "cell_type": "code",
   "execution_count": 4,
   "id": "992556f0-32d7-464d-99db-6cd10b907784",
   "metadata": {
    "tags": []
   },
   "outputs": [],
   "source": [
    "# Solution - enter your code solution below\n"
   ]
  },
  {
   "cell_type": "markdown",
   "id": "486603ef-7ca3-481e-948c-3c975f79e9c7",
   "metadata": {},
   "source": [
    "#### 4. Overriding Parent Methods\n",
    "> Create a class <font color=green>Employee</font> with a method <font color=green>get_position()</font> that returns <font color=green>\"Employee\"</font>. Create a subclass <font color=green>Manager</font> that overrides the <font color=green>get_position()</font> method to return <font color=green>\"Manager\"</font>."
   ]
  },
  {
   "cell_type": "code",
   "execution_count": 5,
   "id": "86a8bd72-0d71-4315-a8e9-b4b780c6c693",
   "metadata": {
    "tags": []
   },
   "outputs": [],
   "source": [
    "# Solution - enter your code solution below\n"
   ]
  },
  {
   "cell_type": "markdown",
   "id": "b4ca6a16-7c26-4d4b-841c-8c582d77e6b9",
   "metadata": {},
   "source": [
    "#### 5. Inheritance with super() to Extend Functionality\n",
    "> Create a class <font color=green>Vehicle</font> with a method <font color=green>start()</font> that prints <font color=green>\"Vehicle started\"</font>. Create a subclass <font color=green>Car</font> that uses <font color=green>super()</font> to extend <font color=green>start()</font> by printing <font color=green>\"Car started\"</font> after <font color=green>\"Vehicle started\"</font>."
   ]
  },
  {
   "cell_type": "code",
   "execution_count": 6,
   "id": "bbe00190-8974-46bd-98fd-b2dd1542f7e5",
   "metadata": {
    "tags": []
   },
   "outputs": [],
   "source": [
    "# Solution - enter your code solution below\n"
   ]
  },
  {
   "cell_type": "markdown",
   "id": "87625448-e9bf-462b-9ce9-36a024fea268",
   "metadata": {},
   "source": [
    "#### 6. Calling Parent Class Method from Subclass\n",
    "> Create a class <font color=green>Bird</font> with a method <font color=green>fly()</font> that returns <font color=green>\"Flapping wings\"</font>. Create a subclass <font color=green>Eagle</font> that calls the <font color=green>fly()</font> method from <font color=green>Bird</font> and adds <font color=green>\" and soaring high\"</font>."
   ]
  },
  {
   "cell_type": "code",
   "execution_count": 7,
   "id": "fa7151ea-3a66-4a80-94fb-ffd6136f3741",
   "metadata": {
    "tags": []
   },
   "outputs": [],
   "source": [
    "# Solution - enter your code solution below\n"
   ]
  },
  {
   "cell_type": "markdown",
   "id": "852f548f-6896-4d37-9ec7-4520f08de30c",
   "metadata": {},
   "source": [
    "#### 7. Inheritance and Instance Variables\n",
    ">Create a class <font color=green>Appliance</font> with an **init**() method that takes brand as an argument. Create a subclass <font color=green>WashingMachine</font> that inherits brand and also has an additional attribute load_capacity."
   ]
  },
  {
   "cell_type": "code",
   "execution_count": 8,
   "id": "9cb53e63-14d3-485b-b29e-8419190eaeb1",
   "metadata": {
    "tags": []
   },
   "outputs": [],
   "source": [
    "# Solution - enter your code solution below\n"
   ]
  },
  {
   "cell_type": "markdown",
   "id": "f1c6014e-a0aa-4ef5-a6ac-a6798b8d6819",
   "metadata": {},
   "source": [
    "#### 8. Using isinstance() with Inheritance\n",
    "> Create a class <font color=green>Shape</font> and a subclass <font color=green>Rectangle</font>. Write a function <font color=green>is_shape()</font> that takes an object and returns <font color=green>True</font> if the object is an instance of <font color=green>Shape</font> (or its subclass), otherwise <font color=green>False</font>."
   ]
  },
  {
   "cell_type": "code",
   "execution_count": 9,
   "id": "decaa75f-c409-4ce2-8fad-7d1f67ce0b5d",
   "metadata": {
    "tags": []
   },
   "outputs": [],
   "source": [
    "# Solution - enter your code solution below\n"
   ]
  },
  {
   "cell_type": "markdown",
   "id": "ea311b6a-3a4b-45db-aa03-e2fee511ace0",
   "metadata": {},
   "source": [
    "#### 9. Inheritance and Method Overriding with Different Return Types\n",
    "> Create a class <font color=green>BankAccount</font> with a method <font color=green>interest_rate()</font> that returns 0.01. Create a subclass <font color=green>SavingsAccount</font> that overrides <font color=green>interest_rate()</font> to return 0.05."
   ]
  },
  {
   "cell_type": "code",
   "execution_count": 10,
   "id": "d9b50a5f-3d99-4548-8a92-f4783d73940d",
   "metadata": {
    "tags": []
   },
   "outputs": [],
   "source": [
    "# Solution - enter your code solution below\n"
   ]
  },
  {
   "cell_type": "markdown",
   "id": "fdf623c0-821a-4d6d-9887-642f0159c27c",
   "metadata": {},
   "source": [
    "#### 10. Polymorphism with Inheritance\n",
    "> Create a class <font color=green>Instrument</font> with a method <font color=green>play()</font>. Create two subclasses, <font color=green>Piano</font> and <font color=green>Guitar</font>, each with its own <font color=green>play()</font> method. Write a function <font color=green>perform()</font> that calls the <font color=green>play()</font> method, demonstrating polymorphism."
   ]
  },
  {
   "cell_type": "code",
   "execution_count": 11,
   "id": "bc77a500-43b5-4c1e-9a61-10250bdcc34a",
   "metadata": {
    "tags": []
   },
   "outputs": [],
   "source": [
    "# Solution - enter your code solution below\n"
   ]
  },
  {
   "cell_type": "markdown",
   "id": "ec8ddd19-87cd-475d-a07f-7dc8983dc636",
   "metadata": {
    "jp-MarkdownHeadingCollapsed": true
   },
   "source": [
    "### Notebook Instructions\n",
    "> Before turning in your notebook:\n",
    "> 1. Make sure you have renamed the notebook file as instructed\n",
    "> 2. Make sure you have included your signature block and that it is correct according to the instructions\n",
    "> 3. comment your code as necessary\n",
    "> 4. run all code cells and double check that they run correctly<br><br>\n",
    "Turn in your notebook by uploading it to ELMS<br>\n",
    "IF the exercises involve saved data files, put your notebook and the data file(s) in a zip folder and upload the zip folder to ELMS"
   ]
  }
 ],
 "metadata": {
  "kernelspec": {
   "display_name": "Python 3 (ipykernel)",
   "language": "python",
   "name": "python3"
  },
  "language_info": {
   "codemirror_mode": {
    "name": "ipython",
    "version": 3
   },
   "file_extension": ".py",
   "mimetype": "text/x-python",
   "name": "python",
   "nbconvert_exporter": "python",
   "pygments_lexer": "ipython3",
   "version": "3.10.5"
  }
 },
 "nbformat": 4,
 "nbformat_minor": 5
}
